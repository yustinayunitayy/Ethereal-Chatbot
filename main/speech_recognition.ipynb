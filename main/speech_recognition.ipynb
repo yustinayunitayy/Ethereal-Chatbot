{
 "cells": [
  {
   "cell_type": "code",
   "execution_count": 1,
   "metadata": {},
   "outputs": [],
   "source": [
    "import random\n",
    "import json\n",
    "import pickle\n",
    "import numpy as np\n",
    "import nltk\n",
    "from nltk.stem import WordNetLemmatizer\n",
    "from tensorflow.keras.models import Sequential\n",
    "from tensorflow.keras.layers import Dense, Activation, Dropout\n",
    "from tensorflow.keras.optimizers import SGD\n",
    "from tensorflow.keras.models import load_model\n",
    "import speech_recognition as sr\n",
    "import pyttsx3"
   ]
  },
  {
   "cell_type": "code",
   "execution_count": 2,
   "metadata": {},
   "outputs": [
    {
     "name": "stderr",
     "output_type": "stream",
     "text": [
      "[nltk_data] Downloading package punkt to C:\\Users\\Yustina\n",
      "[nltk_data]     Yunita\\AppData\\Roaming\\nltk_data...\n",
      "[nltk_data]   Package punkt is already up-to-date!\n",
      "[nltk_data] Downloading package wordnet to C:\\Users\\Yustina\n",
      "[nltk_data]     Yunita\\AppData\\Roaming\\nltk_data...\n",
      "[nltk_data]   Package wordnet is already up-to-date!\n"
     ]
    },
    {
     "data": {
      "text/plain": [
       "True"
      ]
     },
     "execution_count": 2,
     "metadata": {},
     "output_type": "execute_result"
    }
   ],
   "source": [
    "nltk.download('punkt')\n",
    "nltk.download('wordnet')"
   ]
  },
  {
   "cell_type": "code",
   "execution_count": 4,
   "metadata": {},
   "outputs": [
    {
     "name": "stderr",
     "output_type": "stream",
     "text": [
      "WARNING:absl:Compiled the loaded model, but the compiled metrics have yet to be built. `model.compile_metrics` will be empty until you train or evaluate the model.\n"
     ]
    }
   ],
   "source": [
    "# Initialize lemmatizer\n",
    "lemmatizer = WordNetLemmatizer()\n",
    "\n",
    "model = load_model('../models/chatbot_model.h5')\n",
    "intents = json.loads(open('../dataset/convo.json').read())\n",
    "words = pickle.load(open('../obj2/words.pkl','rb'))\n",
    "classes = pickle.load(open('../obj2/classes.pkl','rb'))\n",
    "\n",
    "# Initialize text-to-speech engine\n",
    "engine = pyttsx3.init()"
   ]
  },
  {
   "cell_type": "code",
   "execution_count": 5,
   "metadata": {},
   "outputs": [],
   "source": [
    "# Function to clean and tokenize sentence\n",
    "def clean_up_sentence(sentence):\n",
    "    sentence_words = nltk.word_tokenize(sentence)\n",
    "    sentence_words = [lemmatizer.lemmatize(word.lower()) for word in sentence_words]\n",
    "    return sentence_words"
   ]
  },
  {
   "cell_type": "code",
   "execution_count": 6,
   "metadata": {},
   "outputs": [],
   "source": [
    "# Function to create bag of words from sentence\n",
    "def bag_of_words(sentence, words):\n",
    "    sentence_words = clean_up_sentence(sentence)\n",
    "    bag = [0]*len(words)\n",
    "    for w in sentence_words:\n",
    "        if w in words:\n",
    "            bag[words.index(w)] = 1\n",
    "    return np.array(bag)\n"
   ]
  },
  {
   "cell_type": "code",
   "execution_count": 7,
   "metadata": {},
   "outputs": [],
   "source": [
    "# Function to perform speech recognition\n",
    "def recognize_speech():\n",
    "    recognizer = sr.Recognizer()\n",
    "    with sr.Microphone() as source:\n",
    "        print(\"Speak something:\")\n",
    "        audio = recognizer.listen(source)\n",
    "\n",
    "    try:\n",
    "        # Convert speech to text using Google Web Speech API\n",
    "        message = recognizer.recognize_google(audio)\n",
    "        print(\"You said:\", message)\n",
    "        return message\n",
    "    except sr.UnknownValueError:\n",
    "        print(\"Sorry, I didn't catch that.\")\n",
    "        return \"\"\n",
    "    except sr.RequestError:\n",
    "        print(\"Sorry, there was an error with the speech recognition service.\")\n",
    "        return \"\""
   ]
  },
  {
   "cell_type": "code",
   "execution_count": 8,
   "metadata": {},
   "outputs": [],
   "source": [
    "# Function to predict the class of the input sentence\n",
    "def predict_class(sentence):\n",
    "    ERROR_THRESHOLD = 0.25\n",
    "    bow = bag_of_words(sentence, words)\n",
    "    res = model.predict(np.array([bow]))[0]\n",
    "    results = [[i, r] for i, r in enumerate(res) if r > ERROR_THRESHOLD]\n",
    "    results.sort(key=lambda x: x[1], reverse=True)\n",
    "    return_list = []\n",
    "    for r in results:\n",
    "        return_list.append({'intent': classes[r[0]], 'probability': str(r[1])})\n",
    "    return return_list"
   ]
  },
  {
   "cell_type": "code",
   "execution_count": 9,
   "metadata": {},
   "outputs": [],
   "source": [
    "# Function to get the response for the input sentence\n",
    "def get_response(intents_list, intents_json):\n",
    "    if intents_list:\n",
    "        tag = intents_list[0]['intent']\n",
    "        intents_dict = {i['tag']: i for i in intents_json['intents']}\n",
    "        if tag in intents_dict:\n",
    "            result = random.choice(intents_dict[tag]['responses'])\n",
    "        else:\n",
    "            result = \"I am sorry, I am not sure how to respond to that.\"\n",
    "    else:\n",
    "        result = \"No intent found\"\n",
    "    return result"
   ]
  },
  {
   "cell_type": "code",
   "execution_count": 10,
   "metadata": {},
   "outputs": [],
   "source": [
    "# Initialize an empty list to store responses\n",
    "recorded_responses = []\n",
    "\n",
    "# Function to record responses\n",
    "def record_response(response):\n",
    "    recorded_responses.append(response)"
   ]
  },
  {
   "cell_type": "code",
   "execution_count": 11,
   "metadata": {},
   "outputs": [
    {
     "name": "stdout",
     "output_type": "stream",
     "text": [
      "Speak something:\n",
      "You said: hello\n",
      "\u001b[1m1/1\u001b[0m \u001b[32m━━━━━━━━━━━━━━━━━━━━\u001b[0m\u001b[37m\u001b[0m \u001b[1m0s\u001b[0m 46ms/step\n",
      "Bot: Howdy! What can I do for you?\n",
      "Speak something:\n",
      "You said: can you help me\n",
      "\u001b[1m1/1\u001b[0m \u001b[32m━━━━━━━━━━━━━━━━━━━━\u001b[0m\u001b[37m\u001b[0m \u001b[1m0s\u001b[0m 20ms/step\n",
      "Bot: No problem, just let me know what you need assistance with.\n",
      "Speak something:\n",
      "Sorry, I didn't catch that.\n",
      "Speak something:\n",
      "You said: how are you\n",
      "\u001b[1m1/1\u001b[0m \u001b[32m━━━━━━━━━━━━━━━━━━━━\u001b[0m\u001b[37m\u001b[0m \u001b[1m0s\u001b[0m 19ms/step\n",
      "Bot: I can provide general advice regarding anxiety and depression, answer questions related to mental health, and engage in daily conversations. However, please do not consider me as a substitute for an actual mental healthcare worker. If you don't feel satisfied with our conversation, I encourage you to seek help from a professional.\n"
     ]
    },
    {
     "name": "stderr",
     "output_type": "stream",
     "text": [
      "Exception ignored in: <function BSTR.__del__ at 0x0000018B571847C0>\n",
      "Traceback (most recent call last):\n",
      "  File \"d:\\Main Folder\\Campus\\SEM 6\\NLUG\\projectai\\myvenv\\Lib\\site-packages\\comtypes\\__init__.py\", line 683, in __del__\n",
      "    def __del__(self, _free=windll.oleaut32.SysFreeString):\n",
      "\n",
      "KeyboardInterrupt: \n"
     ]
    },
    {
     "name": "stdout",
     "output_type": "stream",
     "text": [
      "Speak something:\n",
      "You said: stop talking with you\n",
      "\u001b[1m1/1\u001b[0m \u001b[32m━━━━━━━━━━━━━━━━━━━━\u001b[0m\u001b[37m\u001b[0m \u001b[1m0s\u001b[0m 27ms/step\n",
      "Bot: I'm here to support you through any difficulties you may be facing.\n",
      "Speak something:\n"
     ]
    }
   ],
   "source": [
    "# Main loop for the chatbot\n",
    "while True:\n",
    "    # Get user input through speech recognition\n",
    "    message = recognize_speech()\n",
    "    if message:\n",
    "        # Predict intent and get response\n",
    "        ints = predict_class(message)\n",
    "        res = get_response(ints, intents)\n",
    "        print(\"Bot:\", res)\n",
    "        # Record the response\n",
    "        record_response(res)\n",
    "        # Speak the response using text-to-speech\n",
    "        engine.say(res)\n",
    "        engine.runAndWait()"
   ]
  }
 ],
 "metadata": {
  "kernelspec": {
   "display_name": "myvenv",
   "language": "python",
   "name": "python3"
  },
  "language_info": {
   "codemirror_mode": {
    "name": "ipython",
    "version": 3
   },
   "file_extension": ".py",
   "mimetype": "text/x-python",
   "name": "python",
   "nbconvert_exporter": "python",
   "pygments_lexer": "ipython3",
   "version": "3.11.5"
  }
 },
 "nbformat": 4,
 "nbformat_minor": 2
}
